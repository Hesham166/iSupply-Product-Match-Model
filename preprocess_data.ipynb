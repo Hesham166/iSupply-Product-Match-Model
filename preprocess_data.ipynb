{
 "cells": [
  {
   "cell_type": "code",
   "execution_count": 1,
   "metadata": {},
   "outputs": [],
   "source": [
    "from src.utils import excel_to_csv_pipeline"
   ]
  },
  {
   "cell_type": "code",
   "execution_count": 2,
   "metadata": {},
   "outputs": [
    {
     "name": "stdout",
     "output_type": "stream",
     "text": [
      "Data loaded from Excel.\n",
      "Data cleaned.\n",
      "Data saved to ./data/preprocessed\\master_file.csv\n",
      "Pipeline finished.\n"
     ]
    }
   ],
   "source": [
    "excel_to_csv_pipeline(\n",
    "    xlsx_path='./data/raw/Product Matching Dataset.xlsx',\n",
    "    sheet_name='Master File',\n",
    "    text_columns=['product_name', 'product_name_ar'],\n",
    "    price_column='price',\n",
    "    output_csv='master_file.csv'\n",
    ")"
   ]
  },
  {
   "cell_type": "code",
   "execution_count": 3,
   "metadata": {},
   "outputs": [
    {
     "name": "stdout",
     "output_type": "stream",
     "text": [
      "Data loaded from Excel.\n",
      "Data cleaned.\n",
      "Data saved to ./data/preprocessed\\full_dataset.csv\n",
      "Pipeline finished.\n"
     ]
    }
   ],
   "source": [
    "excel_to_csv_pipeline(\n",
    "    xlsx_path='./data/raw/Product Matching Dataset.xlsx',\n",
    "    sheet_name='Dataset',\n",
    "    text_columns=['marketplace_product_name_ar', 'seller_item_name'],\n",
    "    price_column='price',\n",
    "    output_csv='full_dataset.csv'\n",
    ")"
   ]
  },
  {
   "cell_type": "code",
   "execution_count": null,
   "metadata": {},
   "outputs": [],
   "source": []
  },
  {
   "cell_type": "code",
   "execution_count": 4,
   "metadata": {},
   "outputs": [
    {
     "name": "stdout",
     "output_type": "stream",
     "text": [
      "Data saved to ./data/preprocessed\\training_dataset.csv\n",
      "Data saved to ./data/preprocessed\\validation_dataset.csv\n"
     ]
    }
   ],
   "source": [
    "import pandas as pd\n",
    "from sklearn.model_selection import train_test_split\n",
    "from src.utils import save_to_csv\n",
    "\n",
    "# Load and split preprocessed dataset\n",
    "dataset = pd.read_csv('./data/preprocessed/full_dataset.csv')\n",
    "\n",
    "train_df, valid_df = train_test_split(\n",
    "    dataset,\n",
    "    test_size=0.2,\n",
    "    stratify=dataset['sku'],\n",
    "    random_state=1\n",
    ")\n",
    "\n",
    "train_df.reset_index(drop=True, inplace=False)\n",
    "valid_df.reset_index(drop=True, inplace=False)\n",
    "\n",
    "save_to_csv(train_df, 'training_dataset.csv')\n",
    "save_to_csv(valid_df, 'validation_dataset.csv')"
   ]
  }
 ],
 "metadata": {
  "kernelspec": {
   "display_name": "Python 3",
   "language": "python",
   "name": "python3"
  },
  "language_info": {
   "codemirror_mode": {
    "name": "ipython",
    "version": 3
   },
   "file_extension": ".py",
   "mimetype": "text/x-python",
   "name": "python",
   "nbconvert_exporter": "python",
   "pygments_lexer": "ipython3",
   "version": "3.13.1"
  }
 },
 "nbformat": 4,
 "nbformat_minor": 2
}
